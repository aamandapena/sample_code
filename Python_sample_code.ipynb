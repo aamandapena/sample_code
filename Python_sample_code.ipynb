{
 "cells": [
  {
   "cell_type": "code",
   "execution_count": 6,
   "metadata": {},
   "outputs": [],
   "source": [
    "\"\"\"\n",
    "Python Script for Handling Large Dataset Unprocessable in R\n",
    "\n",
    "This script is designed to handle a large dataset that could not be processed efficiently using R.\n",
    "It reads a CSV file, processes the data, and prints the first 200 characters of each line to the console.\n",
    "The processed data is then saved to an output file.\n",
    "\n",
    "Author: Amanda Pena\n",
    "Date: Nov/2022\n",
    "\"\"\"\n",
    "# Open the input file in read mode and the output file in write mode\n",
    "input_file = open(\"RAIS_VINC_ID_MG_ES_RJ.csv\", \"r\", encoding=\"latin-1\")\n",
    "output_file = open(\"saida.csv\", \"w\", encoding=\"latin-1\")\n",
    "\n",
    "# Write the header line to the output file\n",
    "output_file.write(input_file.readline())\n",
    "\n",
    "# Iterate through each line in the input file\n",
    "for line in input_file:\n",
    "    columns = line.split(\";\")  # Split the line into columns\n",
    "\n",
    "    # Check if the first column starts with \"32\" and the 10th field is greater than or equal to 9\n",
    "    if (columns[0][:2] == \"32\") and (int(columns[10]) >= 9):\n",
    "        output_file.write(line)  # Write the line to the output file\n",
    "\n",
    "# Close both input and output files\n",
    "input_file.close()\n",
    "output_file.close()"
   ]
  },
  {
   "cell_type": "code",
   "execution_count": 3,
   "metadata": {},
   "outputs": [
    {
     "name": "stdout",
     "output_type": "stream",
     "text": [
      "Município\tCNAE 95 Classe\tVínculo Ativo 31/12\tTipo Vínculo\tMotivo Desligamento\tMês Desligamento\tInd Vínculo Alvará\tTipo Admissão\tTipo Salário\tCBO 94 Ocupação\tEscolaridade após 2005\tSexo Trabalhador\tNac\n",
      "320260\t74209\t 0\t10\t11\t02\t00\t00\t01\t{ñ cl\t01\t01\t10\t08\t0\t07\t2305\t0\t01\t0\t0\t21032019\t0000000000,00\t000000,00\t0000000000,00\t000000,00\t0010,4\t44\t0000181,13\t0001086,80\t12678026290\t14031973\t04200979\t6966699756\n",
      "320530\t01619\t 0\t10\t11\t02\t00\t00\t01\t{ñ cl\t01\t01\t10\t02\t0\t05\t2062\t0\t01\t0\t1\t21052018\t0000001484,98\t000001,42\t0000000000,00\t000000,00\t0020,4\t44\t0000097,09\t0001456,34\t12885035295\t25011973\t00092208\t0999065173\n",
      "320430\t45217\t 0\t10\t21\t11\t00\t02\t01\t{ñ cl\t01\t01\t10\t09\t0\t05\t2305\t0\t01\t0\t0\t14092020\t0000000698,61\t000000,66\t0000000000,00\t000000,00\t0001,8\t44\t0000336,83\t0001122,77\t13185043293\t12101986\t00013576\t1361962976\n",
      "320430\t45217\t 0\t10\t11\t05\t00\t00\t01\t{ñ cl\t01\t01\t10\t09\t0\t05\t2305\t0\t01\t0\t0\t08042019\t0000001380,40\t000001,31\t0000000000,00\t000000,00\t0012,9\t44\t0000152,73\t0001527,34\t12363291273\t02081969\t00015751\t0146306473\n",
      "320040\t45225\t 0\t60\t11\t04\t00\t00\t01\t{ñ cl\t01\t01\t10\t02\t0\t01\t2062\t1\t01\t0\t0\t15112019\t0000001142,56\t000001,09\t0000000000,00\t000000,00\t0015,3\t39\t0001142,56\t0001071,15\t12866229128\t22101962\t00045593\t1101656573\n",
      "320240\t70408\t 0\t60\t12\t11\t00\t02\t01\t{ñ cl\t01\t01\t10\t02\t0\t03\t3085\t0\t01\t0\t0\t01112020\t0000001555,56\t000001,48\t0000000000,00\t000000,00\t0000,9\t36\t0001555,56\t0000011,20\t12291925352\t04021971\t00770443\t0112155570\n",
      "320040\t45225\t 0\t60\t11\t{ñ\t00\t00\t01\t{ñ cl\t01\t01\t10\t02\t0\t02\t2062\t1\t01\t0\t0\t01042020\t0000001079,08\t000001,02\t0000000000,00\t000000,00\t0015,3\t39\t0000928,33\t0001071,15\t12866229128\t22101962\t00045593\t1101656573\n",
      "320040\t45225\t 0\t60\t11\t11\t00\t00\t01\t{ñ cl\t01\t01\t10\t02\t0\t01\t2062\t1\t01\t0\t0\t01092019\t0000001049,24\t000001,00\t0000000000,00\t000000,00\t0015,3\t39\t0001071,15\t0001071,15\t12866229128\t22101962\t00045593\t1101656573\n",
      "320320\t01228\t 0\t20\t21\t03\t00\t02\t01\t{ñ cl\t01\t01\t10\t04\t0\t05\t2062\t0\t01\t1\t1\t23012020\t0000000691,92\t000000,66\t0000000000,00\t000000,00\t0001,3\t44\t0000691,92\t0000010,45\t12829163062\t29031985\t00665804\t0665804652\n"
     ]
    }
   ],
   "source": [
    "import pandas as pd\n",
    "\n",
    "# Open the input file in read mode\n",
    "f_entrada = open(\"saida.csv\", \"r\")\n",
    "\n",
    "# Initialize a counter for the number of lines printed\n",
    "nl = 0\n",
    "\n",
    "# Iterate through each line in the input file\n",
    "for linha in f_entrada:\n",
    "    # Replace ';' with '\\t' and print the first 200 characters of the line\n",
    "    print(linha.replace(\";\", \"\\t\")[:200])\n",
    "    \n",
    "    # Increment the line counter\n",
    "    nl += 1\n",
    "    \n",
    "    # Break the loop after printing 10 lines\n",
    "    if nl == 10:\n",
    "        break\n",
    "\n",
    "# Close the input file\n",
    "f_entrada.close()"
   ]
  }
 ],
 "metadata": {
  "kernelspec": {
   "display_name": "Python 3.11.0 ('venv')",
   "language": "python",
   "name": "python3"
  },
  "language_info": {
   "codemirror_mode": {
    "name": "ipython",
    "version": 3
   },
   "file_extension": ".py",
   "mimetype": "text/x-python",
   "name": "python",
   "nbconvert_exporter": "python",
   "pygments_lexer": "ipython3",
   "version": "3.11.0"
  },
  "orig_nbformat": 4,
  "vscode": {
   "interpreter": {
    "hash": "fe4dbc568364bde0c64c09aead32b9908401c0cd5dff7f1f2746cc2e43a9899f"
   }
  }
 },
 "nbformat": 4,
 "nbformat_minor": 2
}
